{
  "nbformat": 4,
  "nbformat_minor": 0,
  "metadata": {
    "colab": {
      "provenance": [],
      "authorship_tag": "ABX9TyMcUkLoa68g1TrbYogorEdq",
      "include_colab_link": true
    },
    "kernelspec": {
      "name": "python3",
      "display_name": "Python 3"
    },
    "language_info": {
      "name": "python"
    }
  },
  "cells": [
    {
      "cell_type": "markdown",
      "metadata": {
        "id": "view-in-github",
        "colab_type": "text"
      },
      "source": [
        "<a href=\"https://colab.research.google.com/github/Nehasatheesh04/RaptorQuestions/blob/main/python_assignment.ipynb\" target=\"_parent\"><img src=\"https://colab.research.google.com/assets/colab-badge.svg\" alt=\"Open In Colab\"/></a>"
      ]
    },
    {
      "cell_type": "markdown",
      "source": [],
      "metadata": {
        "id": "qd-NRxdIvb1Z"
      }
    },
    {
      "cell_type": "code",
      "source": [
        "#average value\n",
        "n=int(input(\"enter a value\"))\n",
        "m=int(input(\"enter a value\"))\n",
        "p=int(input(\"enter a value\"))\n",
        "sum=n+m+p\n",
        "avg=sum/3\n",
        "print(\"the avg is\",avg)"
      ],
      "metadata": {
        "colab": {
          "base_uri": "https://localhost:8080/"
        },
        "id": "1zYqMgOKpHCt",
        "outputId": "a7e95854-deaf-4c55-e5b6-bb14bfcce718"
      },
      "execution_count": null,
      "outputs": [
        {
          "output_type": "stream",
          "name": "stdout",
          "text": [
            "enter a value4\n",
            "enter a value10\n",
            "enter a value20\n",
            "the avg is 11.333333333333334\n"
          ]
        }
      ]
    },
    {
      "cell_type": "code",
      "source": [
        "#  perimeter of triangle\n",
        "q=int(input(\"enter a number\"))\n",
        "h=int(input(\"enter a number\"))\n",
        "j=int(input(\"enter a number\"))\n",
        "p=q+h+j\n",
        "print(p)\n"
      ],
      "metadata": {
        "colab": {
          "base_uri": "https://localhost:8080/"
        },
        "id": "d_vSLaDUsKCz",
        "outputId": "cc823d12-045b-4a77-ca26-fc5f1c66a1a1"
      },
      "execution_count": null,
      "outputs": [
        {
          "output_type": "stream",
          "name": "stdout",
          "text": [
            "enter a number5\n",
            "enter a number10\n",
            "enter a number15\n",
            "30\n"
          ]
        }
      ]
    },
    {
      "cell_type": "code",
      "source": [
        "# area of triangle\n",
        "b=int(input(\"base value\"))\n",
        "h=int(input(\"height\"))\n",
        "A=(b*h)/2\n",
        "print(\"the area of a triangle is\",A)\n"
      ],
      "metadata": {
        "colab": {
          "base_uri": "https://localhost:8080/"
        },
        "id": "PSFaUO3xwYpK",
        "outputId": "4e89572f-c06d-4378-bcfe-9ddfdeb0fa94"
      },
      "execution_count": null,
      "outputs": [
        {
          "output_type": "stream",
          "name": "stdout",
          "text": [
            "base value5\n",
            "height10\n",
            "the area of a triangle is 25.0\n"
          ]
        }
      ]
    },
    {
      "cell_type": "code",
      "source": [
        "# area and perimeter of cirle\n",
        "r=int(input(\"enter radius\"))\n",
        "pi=3.14\n",
        "area=pi*r**2\n",
        "perimeter=2*pi*r\n",
        "print(\"area and perimeter is\",area,\"and\",perimeter)"
      ],
      "metadata": {
        "colab": {
          "base_uri": "https://localhost:8080/"
        },
        "id": "hMQ1Hs1GzuOZ",
        "outputId": "3e39e268-5773-45fe-d2af-fb2b7df968eb"
      },
      "execution_count": null,
      "outputs": [
        {
          "output_type": "stream",
          "name": "stdout",
          "text": [
            "enter radius10\n",
            "area and perimeter is 314.0 and 62.800000000000004\n"
          ]
        }
      ]
    },
    {
      "cell_type": "code",
      "source": [
        "# display quotient and reminder\n",
        "a=int(input(\"enter divident\"))\n",
        "b=int(input(\"enter divisor\"))\n",
        "quotient=a//b\n",
        "reminder=a%b\n",
        "print(\"quotient and reminder is\",quotient,\"and\",reminder)"
      ],
      "metadata": {
        "colab": {
          "base_uri": "https://localhost:8080/"
        },
        "id": "HbNLRJMnUn8A",
        "outputId": "30659c83-8982-4aee-d06b-31e4531081da"
      },
      "execution_count": null,
      "outputs": [
        {
          "output_type": "stream",
          "name": "stdout",
          "text": [
            "enter divident120\n",
            "enter divisor3\n",
            "quotient and reminder is 40 and 0\n"
          ]
        }
      ]
    },
    {
      "cell_type": "code",
      "source": [
        "#convert no of days to years,months and days\n",
        "a=int(input(\"enter no of days\"))\n",
        "y=a//365\n",
        "m=(a%365)//30\n",
        "d=(a%365)%30\n",
        "print(y,\"years\",m,\"months\",d,\"days\")"
      ],
      "metadata": {
        "id": "CLkEusnGZ49G",
        "colab": {
          "base_uri": "https://localhost:8080/"
        },
        "outputId": "29d65788-5f23-422c-a703-ec1866e39b79"
      },
      "execution_count": null,
      "outputs": [
        {
          "output_type": "stream",
          "name": "stdout",
          "text": [
            "enter no of days513\n",
            "1 years 4 months 28 days\n"
          ]
        }
      ]
    },
    {
      "cell_type": "code",
      "source": [
        "# chechking whether a no is positive,negative or zero\n",
        "num=int(input(\"enter a no\"))\n",
        "if num>0:\n",
        "  print(num,\"is positive\")\n",
        "elif num<0:\n",
        "    print(num,\" is negative\")\n",
        "else:\n",
        "    print(\"the no is zero\")"
      ],
      "metadata": {
        "colab": {
          "base_uri": "https://localhost:8080/"
        },
        "id": "Z7KL0xCiesjY",
        "outputId": "817e8625-3051-49c4-a305-4c115b878e31"
      },
      "execution_count": null,
      "outputs": [
        {
          "output_type": "stream",
          "name": "stdout",
          "text": [
            "enter a no56\n",
            "56 is positive\n"
          ]
        }
      ]
    },
    {
      "cell_type": "code",
      "source": [
        "# check whether the no is two digit or not\n",
        "num=int(input(\"enter a no\"))\n",
        "if num>9 and num<100:\n",
        "  print(\"the given no is a two digit number\")\n",
        "else:\n",
        "    print(\"the given no is not a two digit number\")\n"
      ],
      "metadata": {
        "colab": {
          "base_uri": "https://localhost:8080/"
        },
        "id": "bl70QMG0mvKo",
        "outputId": "3d7053a3-35d8-4d0c-c15a-71ae1f9fa629"
      },
      "execution_count": null,
      "outputs": [
        {
          "output_type": "stream",
          "name": "stdout",
          "text": [
            "enter a no45\n",
            "the given no is a two digit number\n"
          ]
        }
      ]
    },
    {
      "cell_type": "code",
      "source": [
        "# checking whether the smaller no is multiple of larger no or not\n",
        "n=int(input(\"enter the larger no\"))\n",
        "m=int(input(\"enter the smaller no\"))\n",
        "if n%m==0:\n",
        "  print(m,\"is a multiple of\",n)\n",
        "else:\n",
        "    print(m,\"is not a multiple of\",n)"
      ],
      "metadata": {
        "colab": {
          "base_uri": "https://localhost:8080/"
        },
        "id": "tblprkKjpaZu",
        "outputId": "dbaf5b20-60a2-4ab1-fbab-fd1ab320c37f"
      },
      "execution_count": null,
      "outputs": [
        {
          "output_type": "stream",
          "name": "stdout",
          "text": [
            "enter the larger no100\n",
            "enter the smaller no3\n",
            "3 is not a multiple of 100\n"
          ]
        }
      ]
    },
    {
      "cell_type": "code",
      "source": [
        "# BASIC ARITHMETIC OPERATIONS\n",
        "from binascii import b2a_base64\n",
        "a=7\n",
        "b=3\n",
        "\n",
        "ab_sum=a+b\n",
        "print(ab_sum)\n",
        "\n",
        "ab_dif=a-b\n",
        "print(ab_dif)\n",
        "\n",
        "ab_pdt=a*b\n",
        "print(ab_pdt)\n",
        "\n",
        "ab_div=a/b\n",
        "print(ab_div)\n",
        "\n",
        "ab_quo=a//b\n",
        "print(ab_quo)\n",
        "\n",
        "ab_rem=a%b\n",
        "print(ab_rem)\n",
        "\n",
        "ab_pow=a**b\n",
        "print(ab_pow)"
      ],
      "metadata": {
        "colab": {
          "base_uri": "https://localhost:8080/"
        },
        "id": "dNPyn2I2hz3w",
        "outputId": "2c2a9693-1d6a-419c-a2da-430c42534694"
      },
      "execution_count": null,
      "outputs": [
        {
          "output_type": "stream",
          "name": "stdout",
          "text": [
            "10\n",
            "4\n",
            "21\n",
            "2.3333333333333335\n",
            "2\n",
            "1\n",
            "343\n"
          ]
        }
      ]
    },
    {
      "cell_type": "code",
      "source": [
        "# greatest of two numbers\n",
        "a=int(input(\"enter a value\"))\n",
        "b=int(input(\"enter a value\"))\n",
        "if a>b:\n",
        "  print(\"a is greater than b\")\n",
        "else:\n",
        "  print(\"b is greater than a\")"
      ],
      "metadata": {
        "colab": {
          "base_uri": "https://localhost:8080/"
        },
        "id": "zI2bzfYhHA8w",
        "outputId": "7873f857-015b-482b-f0ea-58fd3eeb464a"
      },
      "execution_count": null,
      "outputs": [
        {
          "output_type": "stream",
          "name": "stdout",
          "text": [
            "enter a value40\n",
            "enter a value10\n",
            "a is greater than b\n"
          ]
        }
      ]
    },
    {
      "cell_type": "code",
      "source": [
        "# distance on number line\n",
        "x=int(input(\"enter first value\"))\n",
        "y=int(input(\"enter second value\"))\n",
        "if x>y:\n",
        "  d=x-y\n",
        "  print(\"the distance is\",d)\n",
        "else:\n",
        "    d=y-x\n",
        "    print(\"the distance is\",d )"
      ],
      "metadata": {
        "colab": {
          "base_uri": "https://localhost:8080/"
        },
        "id": "lzqGVnmXJ8Qq",
        "outputId": "b03476b2-cf95-4f2e-c58c-51202df130e0"
      },
      "execution_count": null,
      "outputs": [
        {
          "output_type": "stream",
          "name": "stdout",
          "text": [
            "enter first value50\n",
            "enter second value24\n",
            "the distance is 26\n"
          ]
        }
      ]
    },
    {
      "cell_type": "code",
      "source": [
        "#FACTORIAL\n",
        "num=int(input(\"enter the number\"))\n",
        "factorial=1\n",
        "while num>0:\n",
        "  factorial=factorial*num\n",
        "  num=num-1\n",
        "print(\"factorial is\",factorial)\n"
      ],
      "metadata": {
        "colab": {
          "base_uri": "https://localhost:8080/"
        },
        "id": "q_D1HPWqMu4E",
        "outputId": "9d4e8479-d97b-4170-d974-845046e996d8"
      },
      "execution_count": null,
      "outputs": [
        {
          "output_type": "stream",
          "name": "stdout",
          "text": [
            "enter the number5\n",
            "factorial is 120\n"
          ]
        }
      ]
    },
    {
      "cell_type": "code",
      "source": [
        "#interchange variable value\n",
        "x=int(input(\"enter first no\"))\n",
        "y=int(input(\"enter second no\"))\n",
        "x=x+y\n",
        "y=x-y\n",
        "x=x-y\n",
        "print(\"the value of x is\",x)\n",
        "print(\"the value of y is\",y)"
      ],
      "metadata": {
        "colab": {
          "base_uri": "https://localhost:8080/"
        },
        "id": "i3FUG81OSWTA",
        "outputId": "664555f2-404d-49e4-a4c6-2cd56569c6ce"
      },
      "execution_count": null,
      "outputs": [
        {
          "output_type": "stream",
          "name": "stdout",
          "text": [
            "enter first no10\n",
            "enter second no70\n",
            "the value of x is 70\n",
            "the value of y is 10\n"
          ]
        }
      ]
    },
    {
      "cell_type": "code",
      "source": [
        "# to check if a no is prime\n",
        "a=int(input(\"enter an integer\"))\n",
        "f=0\n",
        "for i in range(2,(a//2)+1):\n",
        "  if a%i==0:\n",
        "    f=f+1\n",
        "    break\n",
        "if f==0:\n",
        "  print(\"the given no is prime\")\n",
        "else:\n",
        "  print(\"the given no is not prime\")"
      ],
      "metadata": {
        "colab": {
          "base_uri": "https://localhost:8080/"
        },
        "id": "urupb8LOVjaI",
        "outputId": "e015b7dd-445f-400c-d7c0-d4c22a501c8d"
      },
      "execution_count": null,
      "outputs": [
        {
          "output_type": "stream",
          "name": "stdout",
          "text": [
            "enter an integer7\n",
            "the given no is prime\n"
          ]
        }
      ]
    },
    {
      "cell_type": "code",
      "source": [
        "# print first n odd number\n",
        "n=int(input(\"enter no of terms\"))\n",
        "for i in range(1,2*n+1,2):\n",
        " print (i)"
      ],
      "metadata": {
        "colab": {
          "base_uri": "https://localhost:8080/"
        },
        "id": "ZsFbpesmdA3F",
        "outputId": "fd1263eb-e757-46d3-8919-ae58783a6cc0"
      },
      "execution_count": null,
      "outputs": [
        {
          "output_type": "stream",
          "name": "stdout",
          "text": [
            "enter no of terms5\n",
            "1\n",
            "3\n",
            "5\n",
            "7\n",
            "9\n"
          ]
        }
      ]
    },
    {
      "cell_type": "code",
      "source": [
        "# n terms of ap\n",
        "a=int(input(\"enter first term\"))\n",
        "d=int(input(\"enter common difference\"))\n",
        "n=int(input(\"enter no of terms\"))\n",
        "for i in range(1,n+1):\n",
        "  print(a)\n",
        "  a=a+d"
      ],
      "metadata": {
        "colab": {
          "base_uri": "https://localhost:8080/"
        },
        "id": "woNoT33PfTJl",
        "outputId": "b24b208b-6bc1-4f96-baff-1c2c86dfa997"
      },
      "execution_count": null,
      "outputs": [
        {
          "output_type": "stream",
          "name": "stdout",
          "text": [
            "enter first term3\n",
            "enter common difference2\n",
            "enter no of terms10\n",
            "3\n",
            "5\n",
            "7\n",
            "9\n",
            "11\n",
            "13\n",
            "15\n",
            "17\n",
            "19\n",
            "21\n"
          ]
        }
      ]
    },
    {
      "cell_type": "code",
      "source": [
        "# nature of quadratic roots\n",
        "a=int(input(\"enter a value\"))\n",
        "b=int(input(\"enter a value\"))\n",
        "c=int(input(\"enter a value\"))\n",
        "d=b**2-4*a*c\n",
        "if d>0:\n",
        "  print(\"the roots are real and unequal\")\n",
        "elif d==0:\n",
        "    print(\"roots are real and equal\")\n",
        "else:\n",
        "    print(\"roots are imaginary\")"
      ],
      "metadata": {
        "colab": {
          "base_uri": "https://localhost:8080/"
        },
        "id": "VTjsuzTtjd8o",
        "outputId": "db793ac5-b63b-4144-f15f-fc1e62680a56"
      },
      "execution_count": null,
      "outputs": [
        {
          "output_type": "stream",
          "name": "stdout",
          "text": [
            "enter a value1\n",
            "enter a value5\n",
            "enter a value2\n",
            "the roots are real and unequal\n"
          ]
        }
      ]
    },
    {
      "cell_type": "code",
      "source": [
        "#smallest digit in two digit\n",
        "a=int(input(\"enter a two digit no\"))\n",
        "b=a//10\n",
        "c=a%10\n",
        "if b<c:\n",
        "  print(b)\n",
        "else:\n",
        "  print(c)"
      ],
      "metadata": {
        "colab": {
          "base_uri": "https://localhost:8080/"
        },
        "id": "rFRsIY33lrpe",
        "outputId": "aa031645-7200-483a-d548-2baeb30eb31f"
      },
      "execution_count": null,
      "outputs": [
        {
          "output_type": "stream",
          "name": "stdout",
          "text": [
            "enter a two digit no67\n",
            "6\n"
          ]
        }
      ]
    },
    {
      "cell_type": "code",
      "source": [
        "#smallest of three numbers\n",
        "a=int(input(\"enter first no\"))\n",
        "b=int(input(\"enter second no\"))\n",
        "c=int(input(\"enter third no\"))\n",
        "if a<b and a<c:\n",
        "  print(\"smallest no is\",a)\n",
        "elif b<a and b<c:\n",
        "  print(\"smallest no is\",b)\n",
        "elif c<a and c<b:\n",
        "  print(\"smallest no is\",c)\n",
        "else:\n",
        "4 print(\"all are same\")\n"
      ],
      "metadata": {
        "colab": {
          "base_uri": "https://localhost:8080/"
        },
        "id": "IrWQsB9No_0T",
        "outputId": "fec2ad67-f333-4f2c-8908-9a0eece36e61"
      },
      "execution_count": null,
      "outputs": [
        {
          "output_type": "stream",
          "name": "stdout",
          "text": [
            "enter first no12\n",
            "enter second no3\n",
            "enter third no21\n",
            "smallest no is 3\n"
          ]
        }
      ]
    },
    {
      "cell_type": "code",
      "source": [
        "#sum of factors\n",
        "n=int(input(\"enter a no\"))\n",
        "sum=0\n",
        "for i in range(1,n+1):\n",
        " if n%i==0:\n",
        "  sum=sum+i\n",
        "print(\"the sum of factors of\",n,\"is\",sum)"
      ],
      "metadata": {
        "colab": {
          "base_uri": "https://localhost:8080/"
        },
        "id": "pJ3UpaOfrc6L",
        "outputId": "95a1adfb-a134-475b-c785-247ae2942215"
      },
      "execution_count": null,
      "outputs": [
        {
          "output_type": "stream",
          "name": "stdout",
          "text": [
            "enter a no30\n",
            "the sum of factors of 30 is 72\n"
          ]
        }
      ]
    },
    {
      "cell_type": "code",
      "source": [
        "#sum of n natural numbers\n",
        "n=int(input(\"enter the value of n\"))\n",
        "sum=0\n",
        "for i in range(0,n+1):\n",
        "  sum=sum+i\n",
        "print(\"sum of n natural no is\",sum)"
      ],
      "metadata": {
        "colab": {
          "base_uri": "https://localhost:8080/"
        },
        "id": "ylFT5GF4tOmA",
        "outputId": "1c0c9f82-4f36-4cc7-a4df-02c22d62bcbd"
      },
      "execution_count": null,
      "outputs": [
        {
          "output_type": "stream",
          "name": "stdout",
          "text": [
            "enter the value of n5\n",
            "sum of n natural no is 15\n"
          ]
        }
      ]
    },
    {
      "cell_type": "code",
      "source": [
        "#converting time from seconds to hours,minutes and seconds\n",
        "sec=int(input(\"enter time in second\"))\n",
        "h=sec//3600\n",
        "m=(sec%3600)//60\n",
        "s=((sec%3600)%60)\n",
        "print(sec,\"seconds=\",h,\"hours\",m,\"minutes\",s,\"seconds\")"
      ],
      "metadata": {
        "id": "7HyLMfhUwegX",
        "colab": {
          "base_uri": "https://localhost:8080/"
        },
        "outputId": "527cc59b-a8f1-4c66-8be3-c8c1edaa4317"
      },
      "execution_count": null,
      "outputs": [
        {
          "output_type": "stream",
          "name": "stdout",
          "text": [
            "enter time in second7600\n",
            "7600 seconds= 2 hours 6 minutes 40 seconds\n"
          ]
        }
      ]
    },
    {
      "cell_type": "code",
      "source": [
        "# n elements of fibonacci series\n",
        "n=int(input(\"enter no of elements\"))\n",
        "n1=0\n",
        "n2=1\n",
        "n=n-2\n",
        "print(\"fibonacci series\")\n",
        "print(n1)\n",
        "print(n2)\n",
        "while n>0:\n",
        "  n3=n1+n2\n",
        "  print(n3)\n",
        "  n1=n2\n",
        "  n2=n3\n",
        "  n=n-1"
      ],
      "metadata": {
        "colab": {
          "base_uri": "https://localhost:8080/"
        },
        "id": "i5j-0gHCkttH",
        "outputId": "8b7d8596-1e5e-401f-f0aa-cceb52a64237"
      },
      "execution_count": null,
      "outputs": [
        {
          "output_type": "stream",
          "name": "stdout",
          "text": [
            "enter no of elements10\n",
            "fibonacci series\n",
            "0\n",
            "1\n",
            "1\n",
            "2\n",
            "3\n",
            "5\n",
            "8\n",
            "13\n",
            "21\n",
            "34\n"
          ]
        }
      ]
    },
    {
      "cell_type": "code",
      "source": [
        "# palindrome\n",
        "num=int(input(\"enter the no\"))\n",
        "t=num\n",
        "sum=0\n",
        "while num>0:\n",
        "  r=num%10\n",
        "  sum=(sum*10)+r\n",
        "  num=num//10\n",
        "if sum==t:\n",
        "  print(\"the no is a palindrome\")\n",
        "else:\n",
        "  print(\"the no is not a palindrome\")"
      ],
      "metadata": {
        "colab": {
          "base_uri": "https://localhost:8080/"
        },
        "id": "389iB5-EnS97",
        "outputId": "51f447d5-fee3-4302-a8d0-27773461be95"
      },
      "execution_count": null,
      "outputs": [
        {
          "output_type": "stream",
          "name": "stdout",
          "text": [
            "enter the no434\n",
            "the no is a palindrome\n"
          ]
        }
      ]
    },
    {
      "cell_type": "code",
      "source": [
        "#armstrong\n",
        "n=int(input(\"enter a no\"))\n",
        "t=n\n",
        "count=0\n",
        "while n>0:\n",
        "  n=n//10\n",
        "  count=count+1\n",
        "\n",
        "s=t\n",
        "out=0\n",
        "while t>0:\n",
        "    r=t%10\n",
        "    out=out+(r**count)\n",
        "    t=t//10\n",
        "if out==s:\n",
        "  print(\"the given no is an armstrong no\")\n",
        "else:\n",
        "  print(\"the given no is not an armstrong no\")"
      ],
      "metadata": {
        "colab": {
          "base_uri": "https://localhost:8080/"
        },
        "id": "TNqcau0iqKya",
        "outputId": "1bed4e6d-77af-4820-f30a-c988bdff6301"
      },
      "execution_count": null,
      "outputs": [
        {
          "output_type": "stream",
          "name": "stdout",
          "text": [
            "enter a no153\n",
            "the given no is an armstrong no\n"
          ]
        }
      ]
    },
    {
      "cell_type": "code",
      "source": [
        "#finding the output given base and power\n",
        "base=int(input(\"enter the base value\"))\n",
        "power=int(input(\"enter the power\"))\n",
        "output=(base**power)\n",
        "print(\"the output=\",output)"
      ],
      "metadata": {
        "colab": {
          "base_uri": "https://localhost:8080/"
        },
        "id": "kP_cy4bOzBmT",
        "outputId": "0ffb7e22-379a-4514-8f12-866c2aa66c7c"
      },
      "execution_count": null,
      "outputs": [
        {
          "output_type": "stream",
          "name": "stdout",
          "text": [
            "enter the base value2\n",
            "enter the power4\n",
            "the output= 16\n"
          ]
        }
      ]
    },
    {
      "cell_type": "code",
      "source": [
        "#greatest common divisor of two no\n",
        "n1=int(input(\"enter first no\"))\n",
        "n2=int(input(\"enter second no\"))\n",
        "if n1==0:\n",
        "  print(\"the greatest common divisor\",n2)\n",
        "elif n2==0:\n",
        "  print(\"the greatest common divisor\",n1)\n",
        "elif n1==n2:\n",
        "  print(\"the greatest common divisor\",n1)\n",
        "if n1>n2:\n",
        "  x=n2\n",
        "elif n2>n1:\n",
        "  x=n1\n",
        "for i in range(2,x+1):\n",
        "  if n1%i==0 and n2%i==0:\n",
        "    gcdiv=i\n",
        "print(\"the greatest common divisor of\",n1,\"and\",n2,\"=\",gcdiv)"
      ],
      "metadata": {
        "colab": {
          "base_uri": "https://localhost:8080/"
        },
        "id": "LKl0xX309il8",
        "outputId": "ddf4dff7-2e47-4093-9bdf-585e89a2f1e4"
      },
      "execution_count": null,
      "outputs": [
        {
          "output_type": "stream",
          "name": "stdout",
          "text": [
            "enter first no36\n",
            "enter second no60\n",
            "the greatest common divisor of 36 and 60 = 12\n"
          ]
        }
      ]
    },
    {
      "cell_type": "code",
      "source": [
        "#sum of series upto n terms(s=1-4+9-16+25....)\n",
        "n=int(input(\"enter no of terms\"))\n",
        "sum=0\n",
        "for i in range(1,n+1):\n",
        "  if i%2!=0:\n",
        "    sum=sum+(i**2)\n",
        "  elif i%2==0:\n",
        "    sum=sum-(i**2)\n",
        "print(\"the final sum of the series=\",sum)\n"
      ],
      "metadata": {
        "colab": {
          "base_uri": "https://localhost:8080/"
        },
        "id": "LNSQmGUyBmeD",
        "outputId": "fa914338-337a-481b-eff4-5007cb91012c"
      },
      "execution_count": null,
      "outputs": [
        {
          "output_type": "stream",
          "name": "stdout",
          "text": [
            "enter no of terms5\n",
            "the final sum of the series= 15\n"
          ]
        }
      ]
    },
    {
      "cell_type": "code",
      "source": [
        "#finding decimal equivalent of a binary no\n",
        "bn=int(input(\"enter a binary no\"))\n",
        "t=bn\n",
        "sum=0\n",
        "dec=0\n",
        "pow=0\n",
        "while bn>0:\n",
        "  r=bn%10\n",
        "  dec=dec+r*(2**pow)\n",
        "  pow=pow+1\n",
        "  bn=bn//10\n",
        "\n",
        "print(\"the corresponding decimal no of\",t,\"=\",dec)"
      ],
      "metadata": {
        "colab": {
          "base_uri": "https://localhost:8080/"
        },
        "id": "PCAhPvNZGR8N",
        "outputId": "3708fd1c-13da-4d35-a386-88c3249dcfb3"
      },
      "execution_count": null,
      "outputs": [
        {
          "output_type": "stream",
          "name": "stdout",
          "text": [
            "enter a binary no12210\n",
            "the corresponding decimal no of 12210 = 42\n"
          ]
        }
      ]
    },
    {
      "cell_type": "code",
      "source": [
        "#Checking whether a given no is automorphic\n",
        "num=int(input(\"enter a no\"))\n",
        "sq=num**2\n",
        "if num%10==sq%10:\n",
        "  print(\"the given no is automorphic\")\n",
        "else:\n",
        "  print(\"the given no is not automorphic\")"
      ],
      "metadata": {
        "colab": {
          "base_uri": "https://localhost:8080/"
        },
        "id": "ycd0b5FAJ5PB",
        "outputId": "bc90a415-fa85-4241-a2ef-a0a852f0fa1e"
      },
      "execution_count": null,
      "outputs": [
        {
          "output_type": "stream",
          "name": "stdout",
          "text": [
            "enter a no36\n",
            "the given no is automorphic\n"
          ]
        }
      ]
    }
  ]
}